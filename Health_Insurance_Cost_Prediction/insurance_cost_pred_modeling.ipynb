{
 "cells": [
  {
   "cell_type": "code",
   "execution_count": 18,
   "metadata": {},
   "outputs": [],
   "source": [
    "import pandas as pd\n",
    "import numpy as np\n",
    "import matplotlib.pyplot as plt\n",
    "import seaborn as sns\n",
    "\n",
    "from sklearn.preprocessing import OneHotEncoder, LabelEncoder, StandardScaler\n",
    "from sklearn.model_selection import train_test_split, cross_val_score, KFold, GridSearchCV\n",
    "from sklearn import metrics\n",
    "from sklearn.feature_selection import RFE\n",
    "from sklearn.metrics import accuracy_score\n",
    "\n",
    "\n",
    "\n",
    "from sklearn.linear_model import LinearRegression, Ridge, Lasso\n",
    "from sklearn.tree import DecisionTreeRegressor\n",
    "from sklearn.ensemble import RandomForestRegressor, ExtraTreesRegressor\n",
    "from xgboost import XGBRegressor\n",
    "\n",
    "plt.rcParams['figure.figsize'] = (14, 10)\n",
    "\n",
    "\n",
    "import warnings\n",
    "warnings.filterwarnings(\"ignore\")"
   ]
  },
  {
   "attachments": {},
   "cell_type": "markdown",
   "metadata": {},
   "source": [
    "## 1. Import the data"
   ]
  },
  {
   "cell_type": "code",
   "execution_count": 3,
   "metadata": {},
   "outputs": [
    {
     "data": {
      "text/html": [
       "<div>\n",
       "<style scoped>\n",
       "    .dataframe tbody tr th:only-of-type {\n",
       "        vertical-align: middle;\n",
       "    }\n",
       "\n",
       "    .dataframe tbody tr th {\n",
       "        vertical-align: top;\n",
       "    }\n",
       "\n",
       "    .dataframe thead th {\n",
       "        text-align: right;\n",
       "    }\n",
       "</style>\n",
       "<table border=\"1\" class=\"dataframe\">\n",
       "  <thead>\n",
       "    <tr style=\"text-align: right;\">\n",
       "      <th></th>\n",
       "      <th>age</th>\n",
       "      <th>sex</th>\n",
       "      <th>bmi</th>\n",
       "      <th>children</th>\n",
       "      <th>smoker</th>\n",
       "      <th>region</th>\n",
       "      <th>charges</th>\n",
       "    </tr>\n",
       "  </thead>\n",
       "  <tbody>\n",
       "    <tr>\n",
       "      <th>0</th>\n",
       "      <td>19</td>\n",
       "      <td>female</td>\n",
       "      <td>27.900</td>\n",
       "      <td>0</td>\n",
       "      <td>yes</td>\n",
       "      <td>southwest</td>\n",
       "      <td>16884.92400</td>\n",
       "    </tr>\n",
       "    <tr>\n",
       "      <th>1</th>\n",
       "      <td>18</td>\n",
       "      <td>male</td>\n",
       "      <td>33.770</td>\n",
       "      <td>1</td>\n",
       "      <td>no</td>\n",
       "      <td>southeast</td>\n",
       "      <td>1725.55230</td>\n",
       "    </tr>\n",
       "    <tr>\n",
       "      <th>2</th>\n",
       "      <td>28</td>\n",
       "      <td>male</td>\n",
       "      <td>33.000</td>\n",
       "      <td>3</td>\n",
       "      <td>no</td>\n",
       "      <td>southeast</td>\n",
       "      <td>4449.46200</td>\n",
       "    </tr>\n",
       "    <tr>\n",
       "      <th>3</th>\n",
       "      <td>33</td>\n",
       "      <td>male</td>\n",
       "      <td>22.705</td>\n",
       "      <td>0</td>\n",
       "      <td>no</td>\n",
       "      <td>northwest</td>\n",
       "      <td>21984.47061</td>\n",
       "    </tr>\n",
       "    <tr>\n",
       "      <th>4</th>\n",
       "      <td>32</td>\n",
       "      <td>male</td>\n",
       "      <td>28.880</td>\n",
       "      <td>0</td>\n",
       "      <td>no</td>\n",
       "      <td>northwest</td>\n",
       "      <td>3866.85520</td>\n",
       "    </tr>\n",
       "    <tr>\n",
       "      <th>...</th>\n",
       "      <td>...</td>\n",
       "      <td>...</td>\n",
       "      <td>...</td>\n",
       "      <td>...</td>\n",
       "      <td>...</td>\n",
       "      <td>...</td>\n",
       "      <td>...</td>\n",
       "    </tr>\n",
       "    <tr>\n",
       "      <th>1333</th>\n",
       "      <td>50</td>\n",
       "      <td>male</td>\n",
       "      <td>30.970</td>\n",
       "      <td>3</td>\n",
       "      <td>no</td>\n",
       "      <td>northwest</td>\n",
       "      <td>10600.54830</td>\n",
       "    </tr>\n",
       "    <tr>\n",
       "      <th>1334</th>\n",
       "      <td>18</td>\n",
       "      <td>female</td>\n",
       "      <td>31.920</td>\n",
       "      <td>0</td>\n",
       "      <td>no</td>\n",
       "      <td>northeast</td>\n",
       "      <td>2205.98080</td>\n",
       "    </tr>\n",
       "    <tr>\n",
       "      <th>1335</th>\n",
       "      <td>18</td>\n",
       "      <td>female</td>\n",
       "      <td>36.850</td>\n",
       "      <td>0</td>\n",
       "      <td>no</td>\n",
       "      <td>southeast</td>\n",
       "      <td>1629.83350</td>\n",
       "    </tr>\n",
       "    <tr>\n",
       "      <th>1336</th>\n",
       "      <td>21</td>\n",
       "      <td>female</td>\n",
       "      <td>25.800</td>\n",
       "      <td>0</td>\n",
       "      <td>no</td>\n",
       "      <td>southwest</td>\n",
       "      <td>2007.94500</td>\n",
       "    </tr>\n",
       "    <tr>\n",
       "      <th>1337</th>\n",
       "      <td>61</td>\n",
       "      <td>female</td>\n",
       "      <td>29.070</td>\n",
       "      <td>0</td>\n",
       "      <td>yes</td>\n",
       "      <td>northwest</td>\n",
       "      <td>29141.36030</td>\n",
       "    </tr>\n",
       "  </tbody>\n",
       "</table>\n",
       "<p>1338 rows × 7 columns</p>\n",
       "</div>"
      ],
      "text/plain": [
       "      age     sex     bmi  children smoker     region      charges\n",
       "0      19  female  27.900         0    yes  southwest  16884.92400\n",
       "1      18    male  33.770         1     no  southeast   1725.55230\n",
       "2      28    male  33.000         3     no  southeast   4449.46200\n",
       "3      33    male  22.705         0     no  northwest  21984.47061\n",
       "4      32    male  28.880         0     no  northwest   3866.85520\n",
       "...   ...     ...     ...       ...    ...        ...          ...\n",
       "1333   50    male  30.970         3     no  northwest  10600.54830\n",
       "1334   18  female  31.920         0     no  northeast   2205.98080\n",
       "1335   18  female  36.850         0     no  southeast   1629.83350\n",
       "1336   21  female  25.800         0     no  southwest   2007.94500\n",
       "1337   61  female  29.070         0    yes  northwest  29141.36030\n",
       "\n",
       "[1338 rows x 7 columns]"
      ]
     },
     "execution_count": 3,
     "metadata": {},
     "output_type": "execute_result"
    }
   ],
   "source": [
    "df= pd.read_csv(\"insurance_cost.csv\")\n",
    "\n",
    "df"
   ]
  },
  {
   "cell_type": "code",
   "execution_count": 4,
   "metadata": {},
   "outputs": [],
   "source": [
    "cat_cols = [\"sex\", \"smoker\", \"region\"]"
   ]
  },
  {
   "attachments": {},
   "cell_type": "markdown",
   "metadata": {},
   "source": [
    "## 2. Train a baseline model\n",
    "### Linear Regression"
   ]
  },
  {
   "cell_type": "code",
   "execution_count": 22,
   "metadata": {},
   "outputs": [],
   "source": [
    "\n",
    "\n",
    "def  label_encoder(df, cat_cols, drop_true_or_false=True):\n",
    "    label_enc = LabelEncoder()\n",
    "    for cat in cat_cols:\n",
    "        df[cat] = label_enc.fit_transform(df[cat])\n",
    "    return df\n",
    "\n",
    "def one_hot_encode(df, cat_cols, drop_true_or_false=True):\n",
    "    df = pd.get_dummies(df, columns=cat_cols, drop_first=drop_true_or_false)\n",
    "    return df\n",
    "\n",
    "\n",
    "def splitting(df, target):\n",
    "    X = df.drop(target, axis=1)\n",
    "    y= df[target]\n",
    "\n",
    "    X_train, X_test, y_train, y_test = train_test_split(X, y, test_size=0.20, random_state=42)\n",
    "    print(X_train.shape, X_test.shape, y_train.shape, y_test.shape)\n",
    "\n",
    "    return X_train, X_test, y_train, y_test\n",
    "\n",
    "def model_fitting(model, df, target, cat_cols):\n",
    "    df = label_encoder(df, cat_cols)\n",
    "    X_train, X_test, y_train, y_test = splitting(df, target)\n",
    "\n",
    "    m = model()\n",
    "    m.fit(X_train,y_train)\n",
    "    pred_train = m.predict(X_train)\n",
    "    pred_test = m.predict(X_test)\n",
    "\n",
    "    r2_score_train = metrics.r2_score(y_train, pred_train)\n",
    "    print(\"r2_score of train\", r2_score_train)\n",
    "\n",
    "    r2_score_test = metrics.r2_score(y_test, pred_test)\n",
    "    print(\"r2_score of test\", r2_score_test)\n",
    "\n",
    "    return m , r2_score_train, r2_score_test"
   ]
  },
  {
   "cell_type": "code",
   "execution_count": 23,
   "metadata": {},
   "outputs": [
    {
     "name": "stdout",
     "output_type": "stream",
     "text": [
      "(1070, 6) (268, 6) (1070,) (268,)\n",
      "r2_score of train 0.7417049283233981\n",
      "r2_score of test 0.7833463107364538\n"
     ]
    }
   ],
   "source": [
    "model , r2_score_train, r2_score_test,  = model_fitting(LinearRegression, df, \"charges\", cat_cols)"
   ]
  },
  {
   "attachments": {},
   "cell_type": "markdown",
   "metadata": {},
   "source": [
    "## 3. Compare different models to establish the best model."
   ]
  },
  {
   "cell_type": "code",
   "execution_count": 11,
   "metadata": {},
   "outputs": [],
   "source": [
    "models = [\n",
    "    [\"XGB Boost\", XGBRegressor],\n",
    "    [\"Linear Regression\", LinearRegression],\n",
    "    [\"Ridge\", Ridge], \n",
    "    [\"Lasso\", Lasso],\n",
    "    [\"Decision Tree\", DecisionTreeRegressor],\n",
    "    [\"Random Forrest\", RandomForestRegressor], \n",
    "    [\"Extra Tree\", ExtraTreesRegressor]\n",
    "    ]"
   ]
  },
  {
   "cell_type": "code",
   "execution_count": 12,
   "metadata": {},
   "outputs": [],
   "source": [
    "def model_fitting(model, df, target, cat_cols, encoder, drop_true_or_false = True):\n",
    "    df = encoder(df, cat_cols, drop_true_or_false)\n",
    "    X_train, X_test, y_train, y_test = splitting(df, target)\n",
    "\n",
    "    name_list = []\n",
    "    R2_train = []\n",
    "    R2_test = []\n",
    "    MRSE = []\n",
    "    for name, model in models:\n",
    "        m = model()\n",
    "        m.fit(X_train,y_train)\n",
    "        pred_train = m.predict(X_train)\n",
    "        pred_test = m.predict(X_test)\n",
    "        r2_train = metrics.r2_score(y_train, pred_train)\n",
    "        r2_test = metrics.r2_score(y_test, pred_test)\n",
    "        mrse = metrics.mean_squared_error(y_test,pred_test, squared=False)\n",
    "        # cv_score = cross_val_score(m, X, y, scoring=\"neg_mean_squared_error\", cv=5)\n",
    "        # cv_score = np.abs(np.mean(cv_score))\n",
    "        name_list.append(name)\n",
    "\n",
    "        R2_train.append(r2_train)\n",
    "        R2_test.append(r2_test)\n",
    "        MRSE.append(mrse)\n",
    "\n",
    "        #CV_score_list.append(cv_score)\n",
    "        scores = pd.DataFrame(\n",
    "            {\"model\": name_list,\n",
    "            \"R2 Score_train\": R2_train,\n",
    "            \"R2_Score_test\": R2_test,\n",
    "            \"MRSE\": MRSE}\n",
    "            )\n",
    "    return scores"
   ]
  },
  {
   "cell_type": "code",
   "execution_count": 13,
   "metadata": {},
   "outputs": [
    {
     "name": "stdout",
     "output_type": "stream",
     "text": [
      "(1070, 8) (268, 8) (1070,) (268,)\n"
     ]
    },
    {
     "data": {
      "text/html": [
       "<div>\n",
       "<style scoped>\n",
       "    .dataframe tbody tr th:only-of-type {\n",
       "        vertical-align: middle;\n",
       "    }\n",
       "\n",
       "    .dataframe tbody tr th {\n",
       "        vertical-align: top;\n",
       "    }\n",
       "\n",
       "    .dataframe thead th {\n",
       "        text-align: right;\n",
       "    }\n",
       "</style>\n",
       "<table border=\"1\" class=\"dataframe\">\n",
       "  <thead>\n",
       "    <tr style=\"text-align: right;\">\n",
       "      <th></th>\n",
       "      <th>model</th>\n",
       "      <th>R2 Score_train</th>\n",
       "      <th>R2_Score_test</th>\n",
       "      <th>MRSE</th>\n",
       "    </tr>\n",
       "  </thead>\n",
       "  <tbody>\n",
       "    <tr>\n",
       "      <th>0</th>\n",
       "      <td>XGB Boost</td>\n",
       "      <td>0.993571</td>\n",
       "      <td>0.833638</td>\n",
       "      <td>5082.068214</td>\n",
       "    </tr>\n",
       "    <tr>\n",
       "      <th>1</th>\n",
       "      <td>Linear Regression</td>\n",
       "      <td>0.741726</td>\n",
       "      <td>0.783593</td>\n",
       "      <td>5796.284659</td>\n",
       "    </tr>\n",
       "    <tr>\n",
       "      <th>2</th>\n",
       "      <td>Ridge</td>\n",
       "      <td>0.741705</td>\n",
       "      <td>0.783283</td>\n",
       "      <td>5800.434216</td>\n",
       "    </tr>\n",
       "    <tr>\n",
       "      <th>3</th>\n",
       "      <td>Lasso</td>\n",
       "      <td>0.741725</td>\n",
       "      <td>0.783538</td>\n",
       "      <td>5797.025751</td>\n",
       "    </tr>\n",
       "    <tr>\n",
       "      <th>4</th>\n",
       "      <td>Decision Tree</td>\n",
       "      <td>0.998308</td>\n",
       "      <td>0.687533</td>\n",
       "      <td>6964.919837</td>\n",
       "    </tr>\n",
       "    <tr>\n",
       "      <th>5</th>\n",
       "      <td>Random Forrest</td>\n",
       "      <td>0.975011</td>\n",
       "      <td>0.863437</td>\n",
       "      <td>4604.477050</td>\n",
       "    </tr>\n",
       "    <tr>\n",
       "      <th>6</th>\n",
       "      <td>Extra Tree</td>\n",
       "      <td>0.998308</td>\n",
       "      <td>0.843761</td>\n",
       "      <td>4925.022808</td>\n",
       "    </tr>\n",
       "  </tbody>\n",
       "</table>\n",
       "</div>"
      ],
      "text/plain": [
       "               model  R2 Score_train  R2_Score_test         MRSE\n",
       "0          XGB Boost        0.993571       0.833638  5082.068214\n",
       "1  Linear Regression        0.741726       0.783593  5796.284659\n",
       "2              Ridge        0.741705       0.783283  5800.434216\n",
       "3              Lasso        0.741725       0.783538  5797.025751\n",
       "4      Decision Tree        0.998308       0.687533  6964.919837\n",
       "5     Random Forrest        0.975011       0.863437  4604.477050\n",
       "6         Extra Tree        0.998308       0.843761  4925.022808"
      ]
     },
     "execution_count": 13,
     "metadata": {},
     "output_type": "execute_result"
    }
   ],
   "source": [
    "scores = model_fitting(models, df, \"charges\", cat_cols, one_hot_encode, True)\n",
    "\n",
    "scores"
   ]
  },
  {
   "cell_type": "code",
   "execution_count": 14,
   "metadata": {},
   "outputs": [],
   "source": [
    "def model_fitting_CV(model, df, target, cat_cols, encoder, drop_true_or_false):\n",
    "    df = encoder(df, cat_cols, drop_true_or_false)\n",
    "    X_train, X_test, y_train, y_test = splitting(df, target)\n",
    "\n",
    "    name_list = []\n",
    "    R2_train = []\n",
    "    R2_test = []\n",
    "    MRSE = []\n",
    "    for name, model in models:\n",
    "        folds = KFold(n_splits = 5, shuffle = True, random_state = 42)\n",
    "        # step-2: specify range of hyperparameters to tune\n",
    "        hyper_params = [{'n_features_to_select': list(range(0, 7))}]\n",
    "        # step-3: perform grid search\n",
    "        # 3.1 specify model\n",
    "        m = model()\n",
    "        m.fit(X_train, y_train)\n",
    "        rfe = RFE(m)             \n",
    "        # 3.2 call GridSearchCV()\n",
    "        model_cv = GridSearchCV(estimator = rfe, \n",
    "                                param_grid = hyper_params, \n",
    "                                scoring= 'r2', \n",
    "                                cv = folds, \n",
    "                                verbose = 1,\n",
    "                                return_train_score=True)      \n",
    "\n",
    "        model_cv.fit(X_train, y_train) \n",
    "        \n",
    "        pred_train = model_cv.predict(X_train)\n",
    "        pred_test = model_cv.predict(X_test)\n",
    "        r2_train = metrics.r2_score(y_train, pred_train)\n",
    "        r2_test = metrics.r2_score(y_test, pred_test)\n",
    "        mrse = metrics.mean_squared_error(y_test,pred_test, squared=False)\n",
    "        # cv_score = cross_val_score(m, X, y, scoring=\"neg_mean_squared_error\", cv=5)\n",
    "        # cv_score = np.abs(np.mean(cv_score))\n",
    "        name_list.append(name)\n",
    "\n",
    "        R2_train.append(r2_train)\n",
    "        R2_test.append(r2_test)\n",
    "        MRSE.append(mrse)\n",
    "\n",
    "        #CV_score_list.append(cv_score)\n",
    "        scores = pd.DataFrame(\n",
    "            {\"model\": name_list,\n",
    "            \"R2 Score_train\": R2_train,\n",
    "            \"R2_Score_test\": R2_test,\n",
    "            \"MRSE\": MRSE}\n",
    "            )\n",
    "    return scores"
   ]
  },
  {
   "cell_type": "code",
   "execution_count": 15,
   "metadata": {},
   "outputs": [
    {
     "name": "stdout",
     "output_type": "stream",
     "text": [
      "(1070, 8) (268, 8) (1070,) (268,)\n",
      "Fitting 5 folds for each of 7 candidates, totalling 35 fits\n",
      "Fitting 5 folds for each of 7 candidates, totalling 35 fits\n",
      "Fitting 5 folds for each of 7 candidates, totalling 35 fits\n",
      "Fitting 5 folds for each of 7 candidates, totalling 35 fits\n",
      "Fitting 5 folds for each of 7 candidates, totalling 35 fits\n",
      "Fitting 5 folds for each of 7 candidates, totalling 35 fits\n",
      "Fitting 5 folds for each of 7 candidates, totalling 35 fits\n"
     ]
    }
   ],
   "source": [
    "scores_cv = model_fitting_CV(models, df, \"charges\", cat_cols, one_hot_encode, True)"
   ]
  },
  {
   "cell_type": "code",
   "execution_count": 16,
   "metadata": {},
   "outputs": [
    {
     "data": {
      "text/html": [
       "<div>\n",
       "<style scoped>\n",
       "    .dataframe tbody tr th:only-of-type {\n",
       "        vertical-align: middle;\n",
       "    }\n",
       "\n",
       "    .dataframe tbody tr th {\n",
       "        vertical-align: top;\n",
       "    }\n",
       "\n",
       "    .dataframe thead th {\n",
       "        text-align: right;\n",
       "    }\n",
       "</style>\n",
       "<table border=\"1\" class=\"dataframe\">\n",
       "  <thead>\n",
       "    <tr style=\"text-align: right;\">\n",
       "      <th></th>\n",
       "      <th>model</th>\n",
       "      <th>R2 Score_train</th>\n",
       "      <th>R2_Score_test</th>\n",
       "      <th>MRSE</th>\n",
       "    </tr>\n",
       "  </thead>\n",
       "  <tbody>\n",
       "    <tr>\n",
       "      <th>0</th>\n",
       "      <td>XGB Boost</td>\n",
       "      <td>0.990701</td>\n",
       "      <td>0.835255</td>\n",
       "      <td>5057.324353</td>\n",
       "    </tr>\n",
       "    <tr>\n",
       "      <th>1</th>\n",
       "      <td>Linear Regression</td>\n",
       "      <td>0.653217</td>\n",
       "      <td>0.698702</td>\n",
       "      <td>6839.311539</td>\n",
       "    </tr>\n",
       "    <tr>\n",
       "      <th>2</th>\n",
       "      <td>Ridge</td>\n",
       "      <td>0.653197</td>\n",
       "      <td>0.698063</td>\n",
       "      <td>6846.560231</td>\n",
       "    </tr>\n",
       "    <tr>\n",
       "      <th>3</th>\n",
       "      <td>Lasso</td>\n",
       "      <td>0.653217</td>\n",
       "      <td>0.698612</td>\n",
       "      <td>6840.324069</td>\n",
       "    </tr>\n",
       "    <tr>\n",
       "      <th>4</th>\n",
       "      <td>Decision Tree</td>\n",
       "      <td>0.998306</td>\n",
       "      <td>0.714408</td>\n",
       "      <td>6658.660215</td>\n",
       "    </tr>\n",
       "    <tr>\n",
       "      <th>5</th>\n",
       "      <td>Random Forrest</td>\n",
       "      <td>0.973341</td>\n",
       "      <td>0.859528</td>\n",
       "      <td>4669.921364</td>\n",
       "    </tr>\n",
       "    <tr>\n",
       "      <th>6</th>\n",
       "      <td>Extra Tree</td>\n",
       "      <td>0.998308</td>\n",
       "      <td>0.846759</td>\n",
       "      <td>4877.553002</td>\n",
       "    </tr>\n",
       "  </tbody>\n",
       "</table>\n",
       "</div>"
      ],
      "text/plain": [
       "               model  R2 Score_train  R2_Score_test         MRSE\n",
       "0          XGB Boost        0.990701       0.835255  5057.324353\n",
       "1  Linear Regression        0.653217       0.698702  6839.311539\n",
       "2              Ridge        0.653197       0.698063  6846.560231\n",
       "3              Lasso        0.653217       0.698612  6840.324069\n",
       "4      Decision Tree        0.998306       0.714408  6658.660215\n",
       "5     Random Forrest        0.973341       0.859528  4669.921364\n",
       "6         Extra Tree        0.998308       0.846759  4877.553002"
      ]
     },
     "execution_count": 16,
     "metadata": {},
     "output_type": "execute_result"
    }
   ],
   "source": [
    "scores_cv"
   ]
  },
  {
   "attachments": {},
   "cell_type": "markdown",
   "metadata": {},
   "source": [
    "## 4. Cross Validation"
   ]
  },
  {
   "cell_type": "code",
   "execution_count": 17,
   "metadata": {},
   "outputs": [
    {
     "name": "stdout",
     "output_type": "stream",
     "text": [
      "(1070, 6) (268, 6) (1070,) (268,)\n"
     ]
    }
   ],
   "source": [
    "\n",
    "df = label_encoder(df, cat_cols, False)\n",
    "X_train, X_test, y_train, y_test = splitting(df, \"charges\")"
   ]
  },
  {
   "cell_type": "code",
   "execution_count": 24,
   "metadata": {},
   "outputs": [
    {
     "data": {
      "text/plain": [
       "0.8240844786111428"
      ]
     },
     "execution_count": 24,
     "metadata": {},
     "output_type": "execute_result"
    }
   ],
   "source": [
    "lm = RandomForestRegressor()\n",
    "scores = cross_val_score(lm, X_train, y_train, scoring='r2', cv=5)\n",
    "scores.mean()\n"
   ]
  },
  {
   "cell_type": "code",
   "execution_count": 25,
   "metadata": {},
   "outputs": [
    {
     "data": {
      "text/plain": [
       "0.8261248356661474"
      ]
     },
     "execution_count": 25,
     "metadata": {},
     "output_type": "execute_result"
    }
   ],
   "source": [
    "folds = KFold(n_splits = 5, shuffle = True, random_state = 100)\n",
    "scores = cross_val_score(lm, X_train, y_train, scoring='r2', cv=folds)\n",
    "scores.mean()"
   ]
  },
  {
   "cell_type": "code",
   "execution_count": 26,
   "metadata": {},
   "outputs": [
    {
     "name": "stdout",
     "output_type": "stream",
     "text": [
      "Fitting 5 folds for each of 7 candidates, totalling 35 fits\n"
     ]
    },
    {
     "data": {
      "text/plain": [
       "<matplotlib.legend.Legend at 0x7fb4d55b3040>"
      ]
     },
     "execution_count": 26,
     "metadata": {},
     "output_type": "execute_result"
    },
    {
     "data": {
      "image/png": "[encoded data removed]",
      "text/plain": [
       "<Figure size 1600x600 with 1 Axes>"
      ]
     },
     "metadata": {},
     "output_type": "display_data"
    }
   ],
   "source": [
    "# step-1: create a cross-validation scheme\n",
    "folds = KFold(n_splits = 5, shuffle = True, random_state = 42)\n",
    "\n",
    "# step-2: specify range of hyperparameters to tune\n",
    "hyper_params = [{'n_features_to_select': list(range(0, 7))}]\n",
    "\n",
    "\n",
    "# step-3: perform grid search\n",
    "# 3.1 specify model\n",
    "lm = RandomForestRegressor()\n",
    "lm.fit(X_train, y_train)\n",
    "rfe = RFE(lm)             \n",
    "\n",
    "# 3.2 call GridSearchCV()\n",
    "model_cv = GridSearchCV(estimator = rfe, \n",
    "                        param_grid = hyper_params, \n",
    "                        scoring= 'r2', \n",
    "                        cv = folds, \n",
    "                        verbose = 1,\n",
    "                        return_train_score=True)      \n",
    "\n",
    "# fit the model\n",
    "model_cv.fit(X_train, y_train) \n",
    "\n",
    "cv_results = pd.DataFrame(model_cv.cv_results_)\n",
    "cv_results\n",
    "\n",
    "plt.figure(figsize=(16,6))\n",
    "\n",
    "plt.plot(cv_results[\"param_n_features_to_select\"], cv_results[\"mean_test_score\"])\n",
    "plt.plot(cv_results[\"param_n_features_to_select\"], cv_results[\"mean_train_score\"])\n",
    "plt.xlabel('number of features')\n",
    "plt.ylabel('r-squared')\n",
    "plt.title(\"Optimal Number of Features\")\n",
    "plt.legend(['test score', 'train score'], loc='upper left')"
   ]
  },
  {
   "cell_type": "code",
   "execution_count": 27,
   "metadata": {},
   "outputs": [
    {
     "name": "stdout",
     "output_type": "stream",
     "text": [
      "0.8679537152288642\n"
     ]
    }
   ],
   "source": [
    "# final model\n",
    "n_features_optimal = 5\n",
    "\n",
    "lm = RandomForestRegressor()\n",
    "lm.fit(X_train, y_train)\n",
    "\n",
    "rfe = RFE(lm, n_features_to_select=n_features_optimal)             \n",
    "rfe = rfe.fit(X_train, y_train)\n",
    "\n",
    "# predict prices of X_test\n",
    "y_pred = lm.predict(X_test)\n",
    "r2 = metrics.r2_score(y_test, y_pred)\n",
    "print(r2)"
   ]
  },
  {
   "attachments": {},
   "cell_type": "markdown",
   "metadata": {},
   "source": [
    "## 6. Test on User Input"
   ]
  },
  {
   "cell_type": "code",
   "execution_count": 28,
   "metadata": {},
   "outputs": [],
   "source": [
    "def input_prediction(model):\n",
    "    age = int(input(\"What is you age? (between 18-65\"))\n",
    "    sex = input(\"What is your sex? (1 for female, 0 for male)\")\n",
    "    bmi = int(input(\"what is you bmi?\"))\n",
    "    children = int(input (\"how many children do you have?\"))\n",
    "    smoker = input(\"Are you a smoker? (1 for yes, 0 for no)\")\n",
    "    region = input(\"Where do you live? (Northeast=0, Northwest=1, Southeast=2, Southwest=3)\")\n",
    "\n",
    "    variables = (age,sex,bmi,children,smoker,region)\n",
    "\n",
    "    variables = np.asarray(variables).reshape(1,-1)\n",
    "\n",
    "    for i in variables:\n",
    "        if variables[:,1]  == \"female\":\n",
    "            variables[:, 1] = 1\n",
    "        else:\n",
    "            variables[:,1] = 0\n",
    "\n",
    "    for i in variables:\n",
    "        if variables[:,4]  == \"smoker\":\n",
    "            variables[:, 4] = 1\n",
    "        else:\n",
    "            variables[:,4] = 0\n",
    "\n",
    "    for i in variables:\n",
    "        if variables[:,5]  == \"northeast\":\n",
    "            variables[:, 5] = 0\n",
    "        elif variables[:,5]  == \"northwest\":\n",
    "            variables[:, 5] = 1\n",
    "        elif variables[:,5]  == \"southwest\":\n",
    "            variables[:, 5] = 2\n",
    "        else:\n",
    "            variables[:, 5] = 3\n",
    "\n",
    "    user_input = variables.astype(float) \n",
    "    print(variables)\n",
    "\n",
    "    prediction = model.predict(user_input)\n",
    "    print(\"Your insurance cost would be... \", np.round(prediction[0], 2),  \"USD\")\n",
    "    return prediction\n",
    "  "
   ]
  },
  {
   "cell_type": "code",
   "execution_count": 29,
   "metadata": {},
   "outputs": [
    {
     "name": "stdout",
     "output_type": "stream",
     "text": [
      "[['38' '0' '29' '0' '0' '3']]\n",
      "Your insurance cost would be...  6745.34 USD\n"
     ]
    },
    {
     "data": {
      "text/plain": [
       "array([6745.34189203])"
      ]
     },
     "execution_count": 29,
     "metadata": {},
     "output_type": "execute_result"
    }
   ],
   "source": [
    "input_prediction(model)"
   ]
  },
  {
   "cell_type": "code",
   "execution_count": 30,
   "metadata": {},
   "outputs": [
    {
     "name": "stdout",
     "output_type": "stream",
     "text": [
      "[['38' '0' '29' '0' '0' '3']]\n",
      "Your insurance cost would be...  5855.42 USD\n"
     ]
    },
    {
     "data": {
      "text/plain": [
       "array([5855.423937])"
      ]
     },
     "execution_count": 30,
     "metadata": {},
     "output_type": "execute_result"
    }
   ],
   "source": [
    "input_prediction(rfe)"
   ]
  },
  {
   "cell_type": "code",
   "execution_count": null,
   "metadata": {},
   "outputs": [],
   "source": []
  }
 ],
 "metadata": {
  "kernelspec": {
   "display_name": "data_sci",
   "language": "python",
   "name": "python3"
  },
  "language_info": {
   "codemirror_mode": {
    "name": "ipython",
    "version": 3
   },
   "file_extension": ".py",
   "mimetype": "text/x-python",
   "name": "python",
   "nbconvert_exporter": "python",
   "pygments_lexer": "ipython3",
   "version": "3.9.16"
  },
  "orig_nbformat": 4,
  "vscode": {
   "interpreter": {
    "hash": "c05337e2f67a4c2cb1d01a3df3889a12932927617aa3b5bca76b901f8124511a"
   }
  }
 },
 "nbformat": 4,
 "nbformat_minor": 2
}
