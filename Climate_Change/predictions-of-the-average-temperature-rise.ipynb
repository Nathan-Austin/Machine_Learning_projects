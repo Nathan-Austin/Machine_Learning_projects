{
 "metadata": {
  "kernelspec": {
   "language": "python",
   "display_name": "Python 3",
   "name": "python3"
  },
  "language_info": {
   "pygments_lexer": "ipython3",
   "nbconvert_exporter": "python",
   "version": "3.6.4",
   "file_extension": ".py",
   "codemirror_mode": {
    "name": "ipython",
    "version": 3
   },
   "name": "python",
   "mimetype": "text/x-python"
  }
 },
 "nbformat_minor": 4,
 "nbformat": 4,
 "cells": [
  {
   "cell_type": "markdown",
   "metadata": {},
   "source": [
    "# Temperature Rise Prediction\n",
    "This notebook analyzes global temperature trends and builds forecasting models."
   ]
  },
  {
   "cell_type": "markdown",
   "source": "## This notebook is the work of MIKO\u0141AJ HOJDA and can be found [here](https://www.kaggle.com/code/mikolajhojda/predictions-of-the-average-temperature-rise)\nIt focuses on the global change using a singular data source for the Earth which in my opinion is misleading but it provides a good reference point to delve deeper into local changes ",
   "metadata": {}
  },
  {
   "cell_type": "markdown",
   "source": "# Background\n\nClimate Change is one of the biggest threats to our planet, so I decided to predict the average land temperature in the future. I chose three periods which I based on in creating my models. The reason behind creating three models is the different temperature growth rates throughout nearly 3 centuries. Data in the 18th and 19th centuries are also more distracted than nowadays. It can be a consequence of worse measure technology.",
   "metadata": {
    "_uuid": "8f2839f25d086af736a60e9eeb907d3b93b6e0e5",
    "_cell_guid": "b1076dfc-b9ad-4769-8c92-a6c4dae69d19"
   }
  },
  {
   "cell_type": "markdown",
   "source": "# Content:\n1. [Setup](#1)\n2. [EDA](#2)\n3. [Trends](#3)\n    * [Create a Trend Feature](#3.1)\n4. [Linear Regression:](#4)\n    * [1750 - 2015](#4.1)\n    * [1850 - 2015](#4.2)\n    * [1950 - 2015](#4.3)",
   "metadata": {}
  },
  {
   "cell_type": "markdown",
   "source": "# <a id=\"1\">Setup</a>",
   "metadata": {}
  },
  {
   "cell_type": "code",
   "source": "import numpy as np # linear algebra\nimport pandas as pd # data processing, CSV file I/O (e.g. pd.read_csv)\nimport matplotlib.pyplot as plt\nimport datetime as dt\nfrom scipy.stats import pearsonr\nfrom sklearn.model_selection import train_test_split\nfrom sklearn.linear_model import LinearRegression\n\nfrom learntools.time_series.style import *\n\nimport os\nfor dirname, _, filenames in os.walk('/kaggle/input'):\n    for filename in filenames:\n        print(os.path.join(dirname, filename))",
   "metadata": {
    "_kg_hide-output": true,
    "execution": {
     "iopub.status.busy": "2022-09-27T14:34:25.621189Z",
     "iopub.execute_input": "2022-09-27T14:34:25.621656Z",
     "iopub.status.idle": "2022-09-27T14:34:25.636566Z",
     "shell.execute_reply.started": "2022-09-27T14:34:25.621621Z",
     "shell.execute_reply": "2022-09-27T14:34:25.635123Z"
    },
    "trusted": true
   },
   "execution_count": null,
   "outputs": []
  },
  {
   "cell_type": "code",
   "source": "temperatures = pd.read_csv('../input/climate-change-earth-surface-temperature-data/GlobalTemperatures.csv')",
   "metadata": {
    "execution": {
     "iopub.status.busy": "2022-09-27T14:34:25.639067Z",
     "iopub.execute_input": "2022-09-27T14:34:25.63946Z",
     "iopub.status.idle": "2022-09-27T14:34:25.656396Z",
     "shell.execute_reply.started": "2022-09-27T14:34:25.639426Z",
     "shell.execute_reply": "2022-09-27T14:34:25.655081Z"
    },
    "trusted": true
   },
   "execution_count": null,
   "outputs": []
  },
  {
   "cell_type": "markdown",
   "source": "# <a id=\"2\">EDA</a>",
   "metadata": {}
  },
  {
   "cell_type": "code",
   "source": "temperatures.head()",
   "metadata": {
    "execution": {
     "iopub.status.busy": "2022-09-27T14:34:25.658063Z",
     "iopub.execute_input": "2022-09-27T14:34:25.658439Z",
     "iopub.status.idle": "2022-09-27T14:34:25.676384Z",
     "shell.execute_reply.started": "2022-09-27T14:34:25.658405Z",
     "shell.execute_reply": "2022-09-27T14:34:25.675037Z"
    },
    "trusted": true
   },
   "execution_count": null,
   "outputs": []
  },
  {
   "cell_type": "code",
   "source": "max(temperatures.dt)",
   "metadata": {
    "execution": {
     "iopub.status.busy": "2022-09-27T14:34:25.679007Z",
     "iopub.execute_input": "2022-09-27T14:34:25.679401Z",
     "iopub.status.idle": "2022-09-27T14:34:25.688906Z",
     "shell.execute_reply.started": "2022-09-27T14:34:25.67935Z",
     "shell.execute_reply": "2022-09-27T14:34:25.687803Z"
    },
    "trusted": true
   },
   "execution_count": null,
   "outputs": []
  },
  {
   "cell_type": "code",
   "source": "temperatures.dtypes",
   "metadata": {
    "execution": {
     "iopub.status.busy": "2022-09-27T14:34:25.690362Z",
     "iopub.execute_input": "2022-09-27T14:34:25.690828Z",
     "iopub.status.idle": "2022-09-27T14:34:25.702341Z",
     "shell.execute_reply.started": "2022-09-27T14:34:25.690794Z",
     "shell.execute_reply": "2022-09-27T14:34:25.701068Z"
    },
    "trusted": true
   },
   "execution_count": null,
   "outputs": []
  },
  {
   "cell_type": "code",
   "source": "temperatures.describe()",
   "metadata": {
    "execution": {
     "iopub.status.busy": "2022-09-27T14:34:25.704005Z",
     "iopub.execute_input": "2022-09-27T14:34:25.705158Z",
     "iopub.status.idle": "2022-09-27T14:34:25.750399Z",
     "shell.execute_reply.started": "2022-09-27T14:34:25.705113Z",
     "shell.execute_reply": "2022-09-27T14:34:25.749191Z"
    },
    "trusted": true
   },
   "execution_count": null,
   "outputs": []
  },
  {
   "cell_type": "code",
   "source": "plt.figure(figsize=(18,10))\nplt.scatter(data = temperatures, x = 'dt',y = 'LandAverageTemperature')\nplt.show()",
   "metadata": {
    "execution": {
     "iopub.status.busy": "2022-09-27T14:34:25.753533Z",
     "iopub.execute_input": "2022-09-27T14:34:25.754495Z",
     "iopub.status.idle": "2022-09-27T14:35:03.151608Z",
     "shell.execute_reply.started": "2022-09-27T14:34:25.754439Z",
     "shell.execute_reply": "2022-09-27T14:35:03.150092Z"
    },
    "trusted": true
   },
   "execution_count": null,
   "outputs": []
  },
  {
   "cell_type": "code",
   "source": "temperatures['Date'] = pd.to_datetime(temperatures.dt, format='%Y-%d-%m')\ntemperatures['Year'] = temperatures['Date'].dt.year\ntemperatures['Date'] = temperatures['Date'].map(dt.datetime.toordinal)",
   "metadata": {
    "execution": {
     "iopub.status.busy": "2022-09-27T14:35:03.153726Z",
     "iopub.execute_input": "2022-09-27T14:35:03.154262Z",
     "iopub.status.idle": "2022-09-27T14:35:03.188746Z",
     "shell.execute_reply.started": "2022-09-27T14:35:03.154198Z",
     "shell.execute_reply": "2022-09-27T14:35:03.187415Z"
    },
    "trusted": true
   },
   "execution_count": null,
   "outputs": []
  },
  {
   "cell_type": "code",
   "source": "df = temperatures.groupby('Year')['LandAverageTemperature'].mean().reset_index()",
   "metadata": {
    "execution": {
     "iopub.status.busy": "2022-09-27T14:35:03.190275Z",
     "iopub.execute_input": "2022-09-27T14:35:03.190659Z",
     "iopub.status.idle": "2022-09-27T14:35:03.199648Z",
     "shell.execute_reply.started": "2022-09-27T14:35:03.190625Z",
     "shell.execute_reply": "2022-09-27T14:35:03.198402Z"
    },
    "trusted": true
   },
   "execution_count": null,
   "outputs": []
  },
  {
   "cell_type": "code",
   "source": "plt.figure(figsize=(18,10))\nplt.scatter(data = df, x = 'Year',y = 'LandAverageTemperature')\nplt.show()",
   "metadata": {
    "execution": {
     "iopub.status.busy": "2022-09-27T14:35:03.201366Z",
     "iopub.execute_input": "2022-09-27T14:35:03.201738Z",
     "iopub.status.idle": "2022-09-27T14:35:03.558561Z",
     "shell.execute_reply.started": "2022-09-27T14:35:03.201706Z",
     "shell.execute_reply": "2022-09-27T14:35:03.557093Z"
    },
    "trusted": true
   },
   "execution_count": null,
   "outputs": []
  },
  {
   "cell_type": "markdown",
   "source": "# <a id=\"3\">Trends</a>",
   "metadata": {}
  },
  {
   "cell_type": "code",
   "source": "temperature_px = df['LandAverageTemperature']\ndf['10'] = temperature_px.rolling(window=10).mean()\n\nplt.figure(figsize=(18,10))\nax = plt.subplot()\nax.plot(df['LandAverageTemperature'], alpha=0.8, label='land average temperature')\nax.plot(df['10'], color=\"orange\", label='10-year land average temperature')\nax.set_xticks([0,50,100,150,200,250])\nax.set_xticklabels([1750,1800,1850,1900,1950,2000])\nplt.xlabel('Years')\nplt.ylabel('Temperature (in \u00b0C)')\nplt.grid()\nplt.legend()\nplt.show()\nplt.clf()",
   "metadata": {
    "_kg_hide-input": true,
    "execution": {
     "iopub.status.busy": "2022-09-27T14:35:03.561777Z",
     "iopub.execute_input": "2022-09-27T14:35:03.562821Z",
     "iopub.status.idle": "2022-09-27T14:35:03.932746Z",
     "shell.execute_reply.started": "2022-09-27T14:35:03.562774Z",
     "shell.execute_reply": "2022-09-27T14:35:03.931529Z"
    },
    "trusted": true
   },
   "execution_count": null,
   "outputs": []
  },
  {
   "cell_type": "code",
   "source": "ax = df['LandAverageTemperature'].plot(**plot_params)\nax.set(title=\"Land Average Temperature per Year in the last 250 years\", ylabel=\"Land Average Temperature\")\nax.set_xticks([0,50,100,150,200,250])\nax.set_xticklabels([1750,1800,1850,1900,1950,2000])\nplt.show()",
   "metadata": {
    "execution": {
     "iopub.status.busy": "2022-09-27T14:35:03.934833Z",
     "iopub.execute_input": "2022-09-27T14:35:03.93547Z",
     "iopub.status.idle": "2022-09-27T14:35:04.239405Z",
     "shell.execute_reply.started": "2022-09-27T14:35:03.935431Z",
     "shell.execute_reply": "2022-09-27T14:35:04.237908Z"
    },
    "trusted": true
   },
   "execution_count": null,
   "outputs": []
  },
  {
   "cell_type": "markdown",
   "source": "## <a id=\"3.1\">Create a Trend Feature</a>",
   "metadata": {}
  },
  {
   "cell_type": "code",
   "source": "trend = df['LandAverageTemperature'].rolling(\n    window=10,\n    center=True,\n    min_periods=6,\n).mean()\n\nax = df['LandAverageTemperature'].plot(**plot_params, alpha=0.5)\nax = trend.plot(ax=ax, linewidth=3)\nax.set(title=\"Land Average Temperature in the last 250 years\", ylabel=\"Land Average Temperature\")\nax.set_xticks([0,50,100,150,200,250])\nax.set_xticklabels([1750,1800,1850,1900,1950,2000])\nplt.show()",
   "metadata": {
    "execution": {
     "iopub.status.busy": "2022-09-27T14:35:04.241656Z",
     "iopub.execute_input": "2022-09-27T14:35:04.242186Z",
     "iopub.status.idle": "2022-09-27T14:35:05.045844Z",
     "shell.execute_reply.started": "2022-09-27T14:35:04.242126Z",
     "shell.execute_reply": "2022-09-27T14:35:05.044544Z"
    },
    "trusted": true
   },
   "execution_count": null,
   "outputs": []
  },
  {
   "cell_type": "code",
   "source": "from statsmodels.tsa.deterministic import DeterministicProcess\n\naverage_temperature = temperatures.groupby('Year').mean()['LandAverageTemperature']\ny = average_temperature.copy()  # the target\n\n# YOUR CODE HERE: Instantiate `DeterministicProcess` with arguments\n# appropriate for a cubic trend model\ndp = DeterministicProcess(index=y.index, order=3)\nX = dp.in_sample()\nX_fore = dp.out_of_sample(steps=90)",
   "metadata": {
    "execution": {
     "iopub.status.busy": "2022-09-27T14:35:05.047571Z",
     "iopub.execute_input": "2022-09-27T14:35:05.047952Z",
     "iopub.status.idle": "2022-09-27T14:35:05.065088Z",
     "shell.execute_reply.started": "2022-09-27T14:35:05.047917Z",
     "shell.execute_reply": "2022-09-27T14:35:05.063822Z"
    },
    "trusted": true
   },
   "execution_count": null,
   "outputs": []
  },
  {
   "cell_type": "code",
   "source": "model = LinearRegression()\nmodel.fit(X, y)\n\ny_pred = pd.Series(model.predict(X), index=X.index)\ny_fore = pd.Series(model.predict(X_fore), index=X_fore.index)\n\nax = y.plot(**plot_params, alpha=0.5, title=\"Average Land Temperature\", ylabel=\"Land Temperature\")\nax = y_pred.plot(ax=ax, linewidth=3, label=\"Trend\", color='C0')\nax = y_fore.plot(ax=ax, linewidth=3, label=\"Trend Forecast\", color='C3')\nax.legend();",
   "metadata": {
    "execution": {
     "iopub.status.busy": "2022-09-27T14:35:05.067042Z",
     "iopub.execute_input": "2022-09-27T14:35:05.06797Z",
     "iopub.status.idle": "2022-09-27T14:35:05.445067Z",
     "shell.execute_reply.started": "2022-09-27T14:35:05.06793Z",
     "shell.execute_reply": "2022-09-27T14:35:05.443778Z"
    },
    "trusted": true
   },
   "execution_count": null,
   "outputs": []
  },
  {
   "cell_type": "markdown",
   "source": "# <a id=\"4\">Linear Regression</a>\n\n## <a id=\"4.1\">Data from 1750 - 2015</a>",
   "metadata": {}
  },
  {
   "cell_type": "code",
   "source": "corr, p = pearsonr(df['Year'], df['LandAverageTemperature'])\nprint('Pearson correlation of Year and Land Average Temperature: ' + str(corr))",
   "metadata": {
    "execution": {
     "iopub.status.busy": "2022-09-27T14:35:05.447384Z",
     "iopub.execute_input": "2022-09-27T14:35:05.447908Z",
     "iopub.status.idle": "2022-09-27T14:35:05.455615Z",
     "shell.execute_reply.started": "2022-09-27T14:35:05.447856Z",
     "shell.execute_reply": "2022-09-27T14:35:05.45434Z"
    },
    "trusted": true
   },
   "execution_count": null,
   "outputs": []
  },
  {
   "cell_type": "markdown",
   "source": "Strong positive correlation",
   "metadata": {}
  },
  {
   "cell_type": "code",
   "source": "lr = LinearRegression()",
   "metadata": {
    "execution": {
     "iopub.status.busy": "2022-09-27T14:35:05.457816Z",
     "iopub.execute_input": "2022-09-27T14:35:05.458326Z",
     "iopub.status.idle": "2022-09-27T14:35:05.471422Z",
     "shell.execute_reply.started": "2022-09-27T14:35:05.458284Z",
     "shell.execute_reply": "2022-09-27T14:35:05.469539Z"
    },
    "trusted": true
   },
   "execution_count": null,
   "outputs": []
  },
  {
   "cell_type": "code",
   "source": "X = df['Year']\ny = df['LandAverageTemperature']\n\nX = X.values.reshape(-1,1)",
   "metadata": {
    "execution": {
     "iopub.status.busy": "2022-09-27T14:35:05.473368Z",
     "iopub.execute_input": "2022-09-27T14:35:05.473855Z",
     "iopub.status.idle": "2022-09-27T14:35:05.484317Z",
     "shell.execute_reply.started": "2022-09-27T14:35:05.473807Z",
     "shell.execute_reply": "2022-09-27T14:35:05.482974Z"
    },
    "trusted": true
   },
   "execution_count": null,
   "outputs": []
  },
  {
   "cell_type": "code",
   "source": "X_train, X_test, y_train, y_test = train_test_split(X, y, train_size = 0.8)",
   "metadata": {
    "execution": {
     "iopub.status.busy": "2022-09-27T14:35:05.486324Z",
     "iopub.execute_input": "2022-09-27T14:35:05.486821Z",
     "iopub.status.idle": "2022-09-27T14:35:05.498407Z",
     "shell.execute_reply.started": "2022-09-27T14:35:05.486774Z",
     "shell.execute_reply": "2022-09-27T14:35:05.4971Z"
    },
    "trusted": true
   },
   "execution_count": null,
   "outputs": []
  },
  {
   "cell_type": "code",
   "source": "lr.fit(X_train, y_train)\nlr.score(X_test, y_test)",
   "metadata": {
    "execution": {
     "iopub.status.busy": "2022-09-27T14:35:05.500221Z",
     "iopub.execute_input": "2022-09-27T14:35:05.500869Z",
     "iopub.status.idle": "2022-09-27T14:35:05.517062Z",
     "shell.execute_reply.started": "2022-09-27T14:35:05.500831Z",
     "shell.execute_reply": "2022-09-27T14:35:05.515856Z"
    },
    "trusted": true
   },
   "execution_count": null,
   "outputs": []
  },
  {
   "cell_type": "code",
   "source": "y_pred = lr.predict(X_test)",
   "metadata": {
    "execution": {
     "iopub.status.busy": "2022-09-27T14:35:05.518751Z",
     "iopub.execute_input": "2022-09-27T14:35:05.519298Z",
     "iopub.status.idle": "2022-09-27T14:35:05.529946Z",
     "shell.execute_reply.started": "2022-09-27T14:35:05.519256Z",
     "shell.execute_reply": "2022-09-27T14:35:05.528339Z"
    },
    "trusted": true
   },
   "execution_count": null,
   "outputs": []
  },
  {
   "cell_type": "code",
   "source": "years = pd.DataFrame(X_test)",
   "metadata": {
    "execution": {
     "iopub.status.busy": "2022-09-27T14:35:05.535257Z",
     "iopub.execute_input": "2022-09-27T14:35:05.535705Z",
     "iopub.status.idle": "2022-09-27T14:35:05.541865Z",
     "shell.execute_reply.started": "2022-09-27T14:35:05.535663Z",
     "shell.execute_reply": "2022-09-27T14:35:05.54044Z"
    },
    "trusted": true
   },
   "execution_count": null,
   "outputs": []
  },
  {
   "cell_type": "code",
   "source": "plt.figure(figsize=(18,10))\nplt.scatter(X, y, alpha=0.6)\nplt.plot(X_test, y_pred, color=\"orange\")\nplt.xlabel('Years')\nplt.ylabel('Temperature (in \u00b0C)')\nplt.show()\nplt.clf()",
   "metadata": {
    "execution": {
     "iopub.status.busy": "2022-09-27T14:35:05.543607Z",
     "iopub.execute_input": "2022-09-27T14:35:05.54406Z",
     "iopub.status.idle": "2022-09-27T14:35:05.807652Z",
     "shell.execute_reply.started": "2022-09-27T14:35:05.544022Z",
     "shell.execute_reply": "2022-09-27T14:35:05.806242Z"
    },
    "trusted": true
   },
   "execution_count": null,
   "outputs": []
  },
  {
   "cell_type": "code",
   "source": "print(lr.coef_)\nprint(10 * lr.coef_)",
   "metadata": {
    "execution": {
     "iopub.status.busy": "2022-09-27T14:35:05.809095Z",
     "iopub.execute_input": "2022-09-27T14:35:05.809444Z",
     "iopub.status.idle": "2022-09-27T14:35:05.815955Z",
     "shell.execute_reply.started": "2022-09-27T14:35:05.809413Z",
     "shell.execute_reply": "2022-09-27T14:35:05.814948Z"
    },
    "trusted": true
   },
   "execution_count": null,
   "outputs": []
  },
  {
   "cell_type": "code",
   "source": "print(lr.predict(np.array([2030, 2050]).reshape(-1,1)))",
   "metadata": {
    "execution": {
     "iopub.status.busy": "2022-09-27T14:35:05.817566Z",
     "iopub.execute_input": "2022-09-27T14:35:05.818233Z",
     "iopub.status.idle": "2022-09-27T14:35:05.830234Z",
     "shell.execute_reply.started": "2022-09-27T14:35:05.818194Z",
     "shell.execute_reply": "2022-09-27T14:35:05.828656Z"
    },
    "trusted": true
   },
   "execution_count": null,
   "outputs": []
  },
  {
   "cell_type": "markdown",
   "source": "#### Interpretation\n\nEvery year, the average land temperature increases by an average of 0.0047 \u00b0C. Every ten years, the average land temperature increases by an average of 0.0475 \u00b0C.\nThe average land temperature in 2030 will be 9.0572 \u00b0C and in 2050 9.1521 \u00b0C.",
   "metadata": {}
  },
  {
   "cell_type": "markdown",
   "source": "## <a id=\"4.2\">Data from 1850 - 2015</a>",
   "metadata": {}
  },
  {
   "cell_type": "code",
   "source": "corr, p = pearsonr(df[df['Year'] >= 1850]['Year'], df[df['Year'] >= 1850]['LandAverageTemperature'])\nprint('Pearson correlation of Year and Land Average Temperature: ' + str(corr))",
   "metadata": {
    "execution": {
     "iopub.status.busy": "2022-09-27T14:35:05.831844Z",
     "iopub.execute_input": "2022-09-27T14:35:05.832283Z",
     "iopub.status.idle": "2022-09-27T14:35:05.847785Z",
     "shell.execute_reply.started": "2022-09-27T14:35:05.832247Z",
     "shell.execute_reply": "2022-09-27T14:35:05.846443Z"
    },
    "trusted": true
   },
   "execution_count": null,
   "outputs": []
  },
  {
   "cell_type": "markdown",
   "source": "Very strong positive correlation",
   "metadata": {}
  },
  {
   "cell_type": "code",
   "source": "lr = LinearRegression()",
   "metadata": {
    "execution": {
     "iopub.status.busy": "2022-09-27T14:35:05.849866Z",
     "iopub.execute_input": "2022-09-27T14:35:05.850337Z",
     "iopub.status.idle": "2022-09-27T14:35:05.856937Z",
     "shell.execute_reply.started": "2022-09-27T14:35:05.850297Z",
     "shell.execute_reply": "2022-09-27T14:35:05.855783Z"
    },
    "trusted": true
   },
   "execution_count": null,
   "outputs": []
  },
  {
   "cell_type": "code",
   "source": "X = df[df['Year'] >= 1850]['Year']\ny = df[df['Year'] >= 1850]['LandAverageTemperature']\n\nX = X.values.reshape(-1,1)",
   "metadata": {
    "execution": {
     "iopub.status.busy": "2022-09-27T14:35:05.858708Z",
     "iopub.execute_input": "2022-09-27T14:35:05.860156Z",
     "iopub.status.idle": "2022-09-27T14:35:05.871822Z",
     "shell.execute_reply.started": "2022-09-27T14:35:05.860103Z",
     "shell.execute_reply": "2022-09-27T14:35:05.870444Z"
    },
    "trusted": true
   },
   "execution_count": null,
   "outputs": []
  },
  {
   "cell_type": "code",
   "source": "X_train, X_test, y_train, y_test = train_test_split(X, y, train_size = 0.8)",
   "metadata": {
    "execution": {
     "iopub.status.busy": "2022-09-27T14:35:05.873779Z",
     "iopub.execute_input": "2022-09-27T14:35:05.874205Z",
     "iopub.status.idle": "2022-09-27T14:35:05.885123Z",
     "shell.execute_reply.started": "2022-09-27T14:35:05.874168Z",
     "shell.execute_reply": "2022-09-27T14:35:05.88353Z"
    },
    "trusted": true
   },
   "execution_count": null,
   "outputs": []
  },
  {
   "cell_type": "code",
   "source": "lr.fit(X_train, y_train)\nlr.score(X_test, y_test)",
   "metadata": {
    "execution": {
     "iopub.status.busy": "2022-09-27T14:35:05.886704Z",
     "iopub.execute_input": "2022-09-27T14:35:05.887768Z",
     "iopub.status.idle": "2022-09-27T14:35:05.902358Z",
     "shell.execute_reply.started": "2022-09-27T14:35:05.887719Z",
     "shell.execute_reply": "2022-09-27T14:35:05.901231Z"
    },
    "trusted": true
   },
   "execution_count": null,
   "outputs": []
  },
  {
   "cell_type": "code",
   "source": "y_pred = lr.predict(X_test)",
   "metadata": {
    "execution": {
     "iopub.status.busy": "2022-09-27T14:35:05.904328Z",
     "iopub.execute_input": "2022-09-27T14:35:05.90479Z",
     "iopub.status.idle": "2022-09-27T14:35:05.913288Z",
     "shell.execute_reply.started": "2022-09-27T14:35:05.904752Z",
     "shell.execute_reply": "2022-09-27T14:35:05.912098Z"
    },
    "trusted": true
   },
   "execution_count": null,
   "outputs": []
  },
  {
   "cell_type": "code",
   "source": "plt.figure(figsize=(18,10))\nplt.scatter(X, y, alpha=0.6)\nplt.plot(X_test, y_pred, color=\"orange\")\nplt.xlabel('Years')\nplt.ylabel('Temperature (in \u00b0C)')\nplt.show()\nplt.clf()",
   "metadata": {
    "execution": {
     "iopub.status.busy": "2022-09-27T14:35:05.914852Z",
     "iopub.execute_input": "2022-09-27T14:35:05.916142Z",
     "iopub.status.idle": "2022-09-27T14:35:06.170186Z",
     "shell.execute_reply.started": "2022-09-27T14:35:05.916095Z",
     "shell.execute_reply": "2022-09-27T14:35:06.168892Z"
    },
    "trusted": true
   },
   "execution_count": null,
   "outputs": []
  },
  {
   "cell_type": "code",
   "source": "print(lr.coef_)\nprint(10 * lr.coef_)",
   "metadata": {
    "execution": {
     "iopub.status.busy": "2022-09-27T14:35:06.171916Z",
     "iopub.execute_input": "2022-09-27T14:35:06.173924Z",
     "iopub.status.idle": "2022-09-27T14:35:06.181053Z",
     "shell.execute_reply.started": "2022-09-27T14:35:06.173869Z",
     "shell.execute_reply": "2022-09-27T14:35:06.179967Z"
    },
    "trusted": true
   },
   "execution_count": null,
   "outputs": []
  },
  {
   "cell_type": "code",
   "source": "print(lr.predict(np.array([2030, 2050]).reshape(-1,1)))",
   "metadata": {
    "execution": {
     "iopub.status.busy": "2022-09-27T14:35:06.182804Z",
     "iopub.execute_input": "2022-09-27T14:35:06.183324Z",
     "iopub.status.idle": "2022-09-27T14:35:06.197098Z",
     "shell.execute_reply.started": "2022-09-27T14:35:06.183252Z",
     "shell.execute_reply": "2022-09-27T14:35:06.195705Z"
    },
    "trusted": true
   },
   "execution_count": null,
   "outputs": []
  },
  {
   "cell_type": "markdown",
   "source": "#### Interpretation\n\nEvery year, the average land temperature increases by an average of 0.0084 \u00b0C. Every ten years, the average land temperature increases by an average of 0.0843 \u00b0C.\nThe average land temperature in 2030 will be 9.4019 \u00b0C and in 2050 9.5706 \u00b0C.",
   "metadata": {}
  },
  {
   "cell_type": "markdown",
   "source": "## <a id=\"4.3\">Data from 1950 - 2015</a>",
   "metadata": {}
  },
  {
   "cell_type": "code",
   "source": "corr, p = pearsonr(df[df['Year'] >= 1950]['Year'], df[df['Year'] >= 1950]['LandAverageTemperature'])\nprint('Pearson correlation of Year and Land Average Temperature: ' + str(corr))",
   "metadata": {
    "execution": {
     "iopub.status.busy": "2022-09-27T14:35:06.199268Z",
     "iopub.execute_input": "2022-09-27T14:35:06.199717Z",
     "iopub.status.idle": "2022-09-27T14:35:06.210192Z",
     "shell.execute_reply.started": "2022-09-27T14:35:06.199666Z",
     "shell.execute_reply": "2022-09-27T14:35:06.208775Z"
    },
    "trusted": true
   },
   "execution_count": null,
   "outputs": []
  },
  {
   "cell_type": "markdown",
   "source": "Very strong positive correlation",
   "metadata": {}
  },
  {
   "cell_type": "code",
   "source": "lr = LinearRegression()",
   "metadata": {
    "execution": {
     "iopub.status.busy": "2022-09-27T14:35:06.213209Z",
     "iopub.execute_input": "2022-09-27T14:35:06.214605Z",
     "iopub.status.idle": "2022-09-27T14:35:06.22056Z",
     "shell.execute_reply.started": "2022-09-27T14:35:06.214557Z",
     "shell.execute_reply": "2022-09-27T14:35:06.219268Z"
    },
    "trusted": true
   },
   "execution_count": null,
   "outputs": []
  },
  {
   "cell_type": "code",
   "source": "X = df[df['Year'] >= 1950]['Year']\ny = df[df['Year'] >= 1950]['LandAverageTemperature']\n\nX = X.values.reshape(-1,1)",
   "metadata": {
    "execution": {
     "iopub.status.busy": "2022-09-27T14:35:06.22182Z",
     "iopub.execute_input": "2022-09-27T14:35:06.222207Z",
     "iopub.status.idle": "2022-09-27T14:35:06.234677Z",
     "shell.execute_reply.started": "2022-09-27T14:35:06.222172Z",
     "shell.execute_reply": "2022-09-27T14:35:06.233269Z"
    },
    "trusted": true
   },
   "execution_count": null,
   "outputs": []
  },
  {
   "cell_type": "code",
   "source": "X_train, X_test, y_train, y_test = train_test_split(X, y, train_size = 0.8)",
   "metadata": {
    "execution": {
     "iopub.status.busy": "2022-09-27T14:35:06.236238Z",
     "iopub.execute_input": "2022-09-27T14:35:06.236733Z",
     "iopub.status.idle": "2022-09-27T14:35:06.247155Z",
     "shell.execute_reply.started": "2022-09-27T14:35:06.236684Z",
     "shell.execute_reply": "2022-09-27T14:35:06.245904Z"
    },
    "trusted": true
   },
   "execution_count": null,
   "outputs": []
  },
  {
   "cell_type": "code",
   "source": "lr.fit(X_train, y_train)\nlr.score(X_test, y_test)",
   "metadata": {
    "execution": {
     "iopub.status.busy": "2022-09-27T14:35:06.24858Z",
     "iopub.execute_input": "2022-09-27T14:35:06.248945Z",
     "iopub.status.idle": "2022-09-27T14:35:06.263753Z",
     "shell.execute_reply.started": "2022-09-27T14:35:06.248912Z",
     "shell.execute_reply": "2022-09-27T14:35:06.262507Z"
    },
    "trusted": true
   },
   "execution_count": null,
   "outputs": []
  },
  {
   "cell_type": "code",
   "source": "y_pred = lr.predict(X_test)",
   "metadata": {
    "execution": {
     "iopub.status.busy": "2022-09-27T14:35:06.265066Z",
     "iopub.execute_input": "2022-09-27T14:35:06.265556Z",
     "iopub.status.idle": "2022-09-27T14:35:06.272547Z",
     "shell.execute_reply.started": "2022-09-27T14:35:06.265515Z",
     "shell.execute_reply": "2022-09-27T14:35:06.271246Z"
    },
    "trusted": true
   },
   "execution_count": null,
   "outputs": []
  },
  {
   "cell_type": "code",
   "source": "plt.figure(figsize=(18,10))\nplt.scatter(X, y, alpha=0.6)\nplt.plot(X_test, y_pred, color=\"orange\")\nplt.xlabel('Years')\nplt.ylabel('Temperature (in \u00b0C)')\nplt.show()\nplt.clf()",
   "metadata": {
    "execution": {
     "iopub.status.busy": "2022-09-27T14:35:06.274152Z",
     "iopub.execute_input": "2022-09-27T14:35:06.274642Z",
     "iopub.status.idle": "2022-09-27T14:35:06.61697Z",
     "shell.execute_reply.started": "2022-09-27T14:35:06.274595Z",
     "shell.execute_reply": "2022-09-27T14:35:06.615803Z"
    },
    "trusted": true
   },
   "execution_count": null,
   "outputs": []
  },
  {
   "cell_type": "code",
   "source": "print(lr.coef_)\nprint(lr.coef_ * 10)",
   "metadata": {
    "execution": {
     "iopub.status.busy": "2022-09-27T14:35:06.61849Z",
     "iopub.execute_input": "2022-09-27T14:35:06.618881Z",
     "iopub.status.idle": "2022-09-27T14:35:06.626573Z",
     "shell.execute_reply.started": "2022-09-27T14:35:06.618843Z",
     "shell.execute_reply": "2022-09-27T14:35:06.625058Z"
    },
    "trusted": true
   },
   "execution_count": null,
   "outputs": []
  },
  {
   "cell_type": "code",
   "source": "print(lr.predict(np.array([2030, 2050]).reshape(-1,1)))",
   "metadata": {
    "execution": {
     "iopub.status.busy": "2022-09-27T14:35:06.628555Z",
     "iopub.execute_input": "2022-09-27T14:35:06.629073Z",
     "iopub.status.idle": "2022-09-27T14:35:06.641182Z",
     "shell.execute_reply.started": "2022-09-27T14:35:06.629029Z",
     "shell.execute_reply": "2022-09-27T14:35:06.640075Z"
    },
    "trusted": true
   },
   "execution_count": null,
   "outputs": []
  },
  {
   "cell_type": "markdown",
   "source": "#### Interpretation\n\nEvery year, the average land temperature increases by an average of 0.0201 \u00b0C. Every ten years, the average land temperature increases by an average of 0.2009 \u00b0C.\nThe average land temperature in 2030 will be 9.9087 \u00b0C and in 2050 10.3106 \u00b0C.",
   "metadata": {}
  }
 ]
}